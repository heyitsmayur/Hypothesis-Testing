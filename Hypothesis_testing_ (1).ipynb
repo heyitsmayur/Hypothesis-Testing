{
  "nbformat": 4,
  "nbformat_minor": 0,
  "metadata": {
    "colab": {
      "provenance": []
    },
    "kernelspec": {
      "name": "python3",
      "display_name": "Python 3"
    },
    "language_info": {
      "name": "python"
    }
  },
  "cells": [
    {
      "cell_type": "markdown",
      "source": [
        "## **ONE SAMPLE - ONE TAIL **\n",
        "An outbreak of salmonella relatted illness was attributed to ice cream production at certain factory. Scientist measured the level of salmonella in 9 randomly sampled batches of ice cream. The level in MPN/g were\n",
        "0.593,0.142,0.329,0.691,0.231,0.793,0.519,0.392,0.418\n",
        "Is there evidence that the mean level of salmonella in the ice cream is greater than 0.3 MPN/g?"
      ],
      "metadata": {
        "id": "3NFV1rkHs94u"
      }
    },
    {
      "cell_type": "code",
      "execution_count": null,
      "metadata": {
        "id": "V0ctf-Nrs7-_"
      },
      "outputs": [],
      "source": [
        "import pandas as pd\n",
        "import numpy as np\n",
        "import scipy\n",
        "from scipy import stats"
      ]
    },
    {
      "cell_type": "markdown",
      "source": [
        "H0:<=0.3\n",
        "Ha:>0.3"
      ],
      "metadata": {
        "id": "My-IMLiWxPBf"
      }
    },
    {
      "cell_type": "code",
      "source": [
        "data =pd.Series([0.593,0.142,0.329,0.691,0.231,0.793,0.519,0.392,0.418])"
      ],
      "metadata": {
        "id": "blfqbqjjwPrT"
      },
      "execution_count": null,
      "outputs": []
    },
    {
      "cell_type": "code",
      "source": [
        "#this gives two tail test p value to get for one tail divide it by 2\n",
        "p=stats.ttest_1samp(data,0.3)[1]"
      ],
      "metadata": {
        "id": "gCplbXwMwka4"
      },
      "execution_count": null,
      "outputs": []
    },
    {
      "cell_type": "code",
      "source": [
        "p_value=p/2"
      ],
      "metadata": {
        "id": "WeLUrP-fxBo1"
      },
      "execution_count": null,
      "outputs": []
    },
    {
      "cell_type": "code",
      "source": [
        "p_value #its less than alpha, reject null hyphotesis"
      ],
      "metadata": {
        "colab": {
          "base_uri": "https://localhost:8080/"
        },
        "id": "CbvOVB-1yIBU",
        "outputId": "e4451d7c-c02c-4938-8b3a-2280515111b6"
      },
      "execution_count": null,
      "outputs": [
        {
          "output_type": "execute_result",
          "data": {
            "text/plain": [
              "0.029265164842448826"
            ]
          },
          "metadata": {},
          "execution_count": 20
        }
      ]
    },
    {
      "cell_type": "code",
      "source": [],
      "metadata": {
        "id": "8QSAOd2S1CT-"
      },
      "execution_count": null,
      "outputs": []
    },
    {
      "cell_type": "markdown",
      "source": [
        "## **TWO SAMPLE T TEST**\n",
        "6 subject ware given a drag (tretment group) and an additional 6 subject a placebo (control group). There reaction time to a stimulus was measured (in ms). we want to perform a teo-sample t-test for comparing the means of the treatment and control groups.\n",
        "\n",
        "control: 91,87,99,77,88,91\n",
        "treat: 101,110,103,93,99,104"
      ],
      "metadata": {
        "id": "dnxRPCQF1Dkf"
      }
    },
    {
      "cell_type": "code",
      "source": [
        "control=pd.Series([91,87,99,77,88,91])\n",
        "treat=pd.Series([101,110,103,93,99,104])"
      ],
      "metadata": {
        "id": "_NtsonPN2YAV"
      },
      "execution_count": null,
      "outputs": []
    },
    {
      "cell_type": "markdown",
      "source": [
        "Lets the Mu1 be the mean of the polpulation treated and Mu2 is the population untreated\n",
        "\n",
        "H0: Mu1-Mu2=0\n",
        "Ha: Mu1-Mu2!=0"
      ],
      "metadata": {
        "id": "MqOnyxVt4Yxz"
      }
    },
    {
      "cell_type": "code",
      "source": [
        "stats.ttest_ind(control,treat)[1]"
      ],
      "metadata": {
        "colab": {
          "base_uri": "https://localhost:8080/"
        },
        "id": "-T4BSlDo21lY",
        "outputId": "13c7a0b9-370d-42e1-898e-d9a711b66439"
      },
      "execution_count": null,
      "outputs": [
        {
          "output_type": "execute_result",
          "data": {
            "text/plain": [
              "0.006272124350809803"
            ]
          },
          "metadata": {},
          "execution_count": 15
        }
      ]
    },
    {
      "cell_type": "markdown",
      "source": [
        "p value < alpha :. reject null hypothesis."
      ],
      "metadata": {
        "id": "SZ13Gu1p5tsm"
      }
    },
    {
      "cell_type": "code",
      "source": [],
      "metadata": {
        "id": "PUf-cURD6DE2"
      },
      "execution_count": null,
      "outputs": []
    },
    {
      "cell_type": "markdown",
      "source": [
        "## **PROPORTION T TEST**\n",
        "Use case: is there a significant difference between the population proportions of state1 and state2 who report that they have been placed immediately after education?\n",
        "\n",
        "populations: all student who have complited graduation and post graduation in both states\n",
        "\n",
        "parameter of interest:p1-p2, where p1=state1 and p2= state2\n",
        "\n",
        "date: 247 student from state1. 36.8% of student report that they have got the job.\n",
        "\n",
        "308 student from state2 . 38.9% of student report that they have got the job.\n",
        "\n",
        "HYPOTHESIS DEFINATION:\n",
        "Null Hypothesis: p1-p2=0\n",
        "Alternate Hypothesis: p1-p2!=0\n"
      ],
      "metadata": {
        "id": "IM4noOxuA0TN"
      }
    },
    {
      "cell_type": "code",
      "source": [
        "#Data\n",
        "n1=247\n",
        "p1=0.37"
      ],
      "metadata": {
        "id": "InjHD8EgAzj5"
      },
      "execution_count": null,
      "outputs": []
    },
    {
      "cell_type": "code",
      "source": [
        "n2=308\n",
        "p2=0.39"
      ],
      "metadata": {
        "id": "LTahyd7QEA17"
      },
      "execution_count": null,
      "outputs": []
    },
    {
      "cell_type": "code",
      "source": [
        "population1= np.random.binomial(1,p1,n1)\n",
        "population2= np.random.binomial(1,p2,n2)"
      ],
      "metadata": {
        "id": "sKTXyCT_ELsq"
      },
      "execution_count": null,
      "outputs": []
    },
    {
      "cell_type": "code",
      "source": [
        "import statsmodels.api as sm\n",
        "sm.stats.ttest_ind(population1,population2)"
      ],
      "metadata": {
        "colab": {
          "base_uri": "https://localhost:8080/"
        },
        "id": "PY8eWaDqElTS",
        "outputId": "cfff29fe-78c7-4282-aadd-ddc01ef48f2e"
      },
      "execution_count": null,
      "outputs": [
        {
          "output_type": "execute_result",
          "data": {
            "text/plain": [
              "(-1.4573921004543484, 0.14557578598686652, 553.0)"
            ]
          },
          "metadata": {},
          "execution_count": 30
        }
      ]
    },
    {
      "cell_type": "code",
      "source": [
        "# p value > alpha :. fail to reject null hypothesis"
      ],
      "metadata": {
        "id": "Hy3fbC2gFMoU"
      },
      "execution_count": null,
      "outputs": []
    }
  ]
}